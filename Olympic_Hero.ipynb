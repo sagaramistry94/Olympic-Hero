{
 "cells": [
  {
   "cell_type": "markdown",
   "metadata": {},
   "source": [
    "# Problem Statement"
   ]
  },
  {
   "cell_type": "markdown",
   "metadata": {},
   "source": [
    "The Olympic Games, considered to be the world's foremost sports competition has more than 200 nations participating across the Summer and Winter Games alternating by occurring every four years but two years apart.\n",
    "\n",
    "Throughout this project, we will explore the Olympics dataset(scraped from https://en.wikipedia.org/wiki/All-time_Olympic_Games_medal_table) , look at some interesting statistics and then try to find out which country is the King of Olympic Games."
   ]
  },
  {
   "cell_type": "markdown",
   "metadata": {},
   "source": [
    "# About the dataset"
   ]
  },
  {
   "cell_type": "markdown",
   "metadata": {},
   "source": [
    "The dataset has details of 146 countries with following 16 features :-"
   ]
  },
  {
   "cell_type": "raw",
   "metadata": {},
   "source": [
    "  Feature                          Description\n",
    "Country_Name\t Name of the country\n",
    "# Summer\t     No. of games played in Summer Olympics\n",
    "Gold_Summer\t     No. of gold medals won in Summer Olympics\n",
    "Silver_Summer\t No. of silver medals won in Summer Olympics\n",
    "Bronze_Summer\t No. of bronze medals won in Summer Olympics\n",
    "Total_Summer\t Total no. of all the medals won in Summer Olympics\n",
    "# Winter\t     No. of games played in Winter Olympics\n",
    "Gold_Winter\t     No. of gold medals won in Winter Olympics\n",
    "Silver_Winter\t No. of silver medals won in Winter Olympics\n",
    "Bronze_Winter\t No. of bronze medals won in Winter Olympics\n",
    "Total_Winter\t Total no. of all the medals won in Winter Olympics\n",
    "# Games\t         Total no. of games played in both Summer and Winter Olympics\n",
    "Gold_Total\t     Total no. of gold medals won in both Summer and Winter Olympics\n",
    "Silver_Total\t Total no. of silver medals won in both Summer and Winter Olympics\n",
    "Bronze_Total\t Total no. of bronze medals won in both Summer and Winter Olympics\n",
    "Total\t         Total no. of all the medals won in both Summer and Winter Olympics"
   ]
  },
  {
   "cell_type": "markdown",
   "metadata": {},
   "source": [
    "# Why solve this project?"
   ]
  },
  {
   "cell_type": "markdown",
   "metadata": {},
   "source": [
    "After completing this project, you will have a better understanding of data handling with python(pandas). In this project, you will be applying the following concepts :\n",
    "\n",
    "1) Dataframe operations\n",
    "2) Conditional statement and loops\n",
    "3) List operations\n",
    "4) Bar Plotting\n",
    "5) Mathematical operations"
   ]
  },
  {
   "cell_type": "markdown",
   "metadata": {},
   "source": [
    "# Data Loading"
   ]
  },
  {
   "cell_type": "markdown",
   "metadata": {},
   "source": [
    "Let's start with the simple task of loading the data and do a little bit of renaming."
   ]
  },
  {
   "cell_type": "code",
   "execution_count": 3,
   "metadata": {},
   "outputs": [],
   "source": [
    "#Importing header files\n",
    "import pandas as pd\n",
    "import numpy as np\n",
    "import matplotlib.pyplot as plt\n",
    "\n",
    "#Reading the file\n",
    "data=pd.read_csv(\"./Olympic_Hero.csv\")"
   ]
  },
  {
   "cell_type": "code",
   "execution_count": 4,
   "metadata": {},
   "outputs": [
    {
     "name": "stdout",
     "output_type": "stream",
     "text": [
      "  Country_Name  # Summer  Gold_Summer  Silver_Summer  Bronze_Summer  \\\n",
      "0  Afghanistan        13            0              0              2   \n",
      "1      Algeria        12            5              2              8   \n",
      "2    Argentina        23           18             24             28   \n",
      "3      Armenia         5            1              2              9   \n",
      "4  Australasia         2            3              4              5   \n",
      "\n",
      "   Total_Summer  # Winter  Gold_Winter  Silver_Winter  Bronze_Winter  \\\n",
      "0             2         0            0              0              0   \n",
      "1            15         3            0              0              0   \n",
      "2            70        18            0              0              0   \n",
      "3            12         6            0              0              0   \n",
      "4            12         0            0              0              0   \n",
      "\n",
      "   Total_Winter  # Games  Gold_Total  Silver_Total  Bronze_Total  Total  \n",
      "0             0       13           0             0             2      2  \n",
      "1             0       15           5             2             8     15  \n",
      "2             0       41          18            24            28     70  \n",
      "3             0       11           1             2             9     12  \n",
      "4             0        2           3             4             5     12  \n"
     ]
    }
   ],
   "source": [
    "#Printing the first five columns\n",
    "print(data.head(5))"
   ]
  },
  {
   "cell_type": "code",
   "execution_count": 6,
   "metadata": {},
   "outputs": [],
   "source": [
    "#Renaming a column\n",
    "data.rename(columns={'Total':'Total_Medals'},inplace=True)"
   ]
  },
  {
   "cell_type": "code",
   "execution_count": 7,
   "metadata": {},
   "outputs": [
    {
     "name": "stdout",
     "output_type": "stream",
     "text": [
      "  Country_Name  # Summer  Gold_Summer  Silver_Summer  Bronze_Summer  \\\n",
      "0  Afghanistan        13            0              0              2   \n",
      "1      Algeria        12            5              2              8   \n",
      "2    Argentina        23           18             24             28   \n",
      "3      Armenia         5            1              2              9   \n",
      "4  Australasia         2            3              4              5   \n",
      "\n",
      "   Total_Summer  # Winter  Gold_Winter  Silver_Winter  Bronze_Winter  \\\n",
      "0             2         0            0              0              0   \n",
      "1            15         3            0              0              0   \n",
      "2            70        18            0              0              0   \n",
      "3            12         6            0              0              0   \n",
      "4            12         0            0              0              0   \n",
      "\n",
      "   Total_Winter  # Games  Gold_Total  Silver_Total  Bronze_Total  Total_Medals  \n",
      "0             0       13           0             0             2             2  \n",
      "1             0       15           5             2             8            15  \n",
      "2             0       41          18            24            28            70  \n",
      "3             0       11           1             2             9            12  \n",
      "4             0        2           3             4             5            12  \n"
     ]
    }
   ],
   "source": [
    "#Printing the first five columns\n",
    "print(data.head(5))"
   ]
  },
  {
   "cell_type": "markdown",
   "metadata": {},
   "source": [
    "# Summer or Winter"
   ]
  },
  {
   "cell_type": "markdown",
   "metadata": {},
   "source": [
    "Some Countries love Summer, some Winter. We think it has to do something with their Olympic performance.\n",
    "\n",
    "For this task we will try to figure out which olympic event does a country perform better in."
   ]
  },
  {
   "cell_type": "code",
   "execution_count": 9,
   "metadata": {},
   "outputs": [
    {
     "name": "stdout",
     "output_type": "stream",
     "text": [
      "  Country_Name  # Summer  Gold_Summer  Silver_Summer  Bronze_Summer  \\\n",
      "0  Afghanistan        13            0              0              2   \n",
      "1      Algeria        12            5              2              8   \n",
      "2    Argentina        23           18             24             28   \n",
      "3      Armenia         5            1              2              9   \n",
      "4  Australasia         2            3              4              5   \n",
      "\n",
      "   Total_Summer  # Winter  Gold_Winter  Silver_Winter  Bronze_Winter  \\\n",
      "0             2         0            0              0              0   \n",
      "1            15         3            0              0              0   \n",
      "2            70        18            0              0              0   \n",
      "3            12         6            0              0              0   \n",
      "4            12         0            0              0              0   \n",
      "\n",
      "   Total_Winter  # Games  Gold_Total  Silver_Total  Bronze_Total  \\\n",
      "0             0       13           0             0             2   \n",
      "1             0       15           5             2             8   \n",
      "2             0       41          18            24            28   \n",
      "3             0       11           1             2             9   \n",
      "4             0        2           3             4             5   \n",
      "\n",
      "   Total_Medals Better_Event  \n",
      "0             2       Summer  \n",
      "1            15       Summer  \n",
      "2            70       Summer  \n",
      "3            12       Summer  \n",
      "4            12       Summer  \n"
     ]
    }
   ],
   "source": [
    "#Creating new column 'Better_Event'\n",
    "data['Better_Event'] = np.where(data['Total_Summer'] > data['Total_Winter'] , 'Summer', 'Winter')\n",
    "data['Better_Event'] = np.where(data['Total_Summer'] == data['Total_Winter'] , 'Both', data['Better_Event'])\n",
    "\n",
    "#Printing the first five columns\n",
    "print(data.head(5))"
   ]
  },
  {
   "cell_type": "code",
   "execution_count": 10,
   "metadata": {},
   "outputs": [
    {
     "name": "stdout",
     "output_type": "stream",
     "text": [
      "Better_Event= Summer\n"
     ]
    }
   ],
   "source": [
    "#Finding the value with max count in 'Better_Event' column\n",
    "better_event=data['Better_Event'].value_counts().index.values[0]\n",
    "\n",
    "#Printing the better event\n",
    "print('Better_Event=', better_event) "
   ]
  },
  {
   "cell_type": "markdown",
   "metadata": {},
   "source": [
    "# Top 10"
   ]
  },
  {
   "cell_type": "markdown",
   "metadata": {},
   "source": [
    "So we figured out which is a better event for each country. Let's move on to finding out the best performing countries across all events\n",
    "\n",
    "In this task we will try to find :-\n",
    "\n",
    "1) Which are the top 10 performing teams at summer event (with respect to total medals), winter event and overall?\n",
    "\n",
    "2) How many teams are present in all of the three lists above?"
   ]
  },
  {
   "cell_type": "code",
   "execution_count": 14,
   "metadata": {},
   "outputs": [],
   "source": [
    "#Subsetting the dataframe\n",
    "top_countries=data[['Country_Name','Total_Summer', 'Total_Winter','Total_Medals']]"
   ]
  },
  {
   "cell_type": "code",
   "execution_count": 16,
   "metadata": {},
   "outputs": [
    {
     "name": "stdout",
     "output_type": "stream",
     "text": [
      "                         Country_Name  Total_Summer  Total_Winter  \\\n",
      "0                         Afghanistan             2             0   \n",
      "1                             Algeria            15             0   \n",
      "2                           Argentina            70             0   \n",
      "3                             Armenia            12             0   \n",
      "4                         Australasia            12             0   \n",
      "..                                ...           ...           ...   \n",
      "142  Independent Olympic Participants             3             0   \n",
      "143                            Zambia             2             0   \n",
      "144                          Zimbabwe             8             0   \n",
      "145                        Mixed team            17             0   \n",
      "146                            Totals         14714          2865   \n",
      "\n",
      "     Total_Medals  \n",
      "0               2  \n",
      "1              15  \n",
      "2              70  \n",
      "3              12  \n",
      "4              12  \n",
      "..            ...  \n",
      "142             3  \n",
      "143             2  \n",
      "144             8  \n",
      "145            17  \n",
      "146         17579  \n",
      "\n",
      "[147 rows x 4 columns]\n"
     ]
    }
   ],
   "source": [
    "print(top_countries)"
   ]
  },
  {
   "cell_type": "code",
   "execution_count": 19,
   "metadata": {},
   "outputs": [
    {
     "name": "stdout",
     "output_type": "stream",
     "text": [
      "                         Country_Name  Total_Summer  Total_Winter  \\\n",
      "0                         Afghanistan             2             0   \n",
      "1                             Algeria            15             0   \n",
      "2                           Argentina            70             0   \n",
      "3                             Armenia            12             0   \n",
      "4                         Australasia            12             0   \n",
      "..                                ...           ...           ...   \n",
      "139                           Vietnam             2             0   \n",
      "140                    Virgin Islands             1             0   \n",
      "141                        Yugoslavia            83             4   \n",
      "142  Independent Olympic Participants             3             0   \n",
      "143                            Zambia             2             0   \n",
      "\n",
      "     Total_Medals  \n",
      "0               2  \n",
      "1              15  \n",
      "2              70  \n",
      "3              12  \n",
      "4              12  \n",
      "..            ...  \n",
      "139             2  \n",
      "140             1  \n",
      "141            87  \n",
      "142             3  \n",
      "143             2  \n",
      "\n",
      "[144 rows x 4 columns]\n"
     ]
    }
   ],
   "source": [
    "#Dropping the last row (The last row contains the sum of the medals)\n",
    "top_countries=top_countries[:-1]\n",
    "\n",
    "print(top_countries)"
   ]
  },
  {
   "cell_type": "code",
   "execution_count": 21,
   "metadata": {},
   "outputs": [
    {
     "name": "stdout",
     "output_type": "stream",
     "text": [
      "Top 10 in Summer:\n",
      " ['United States', 'Soviet Union', 'Great Britain', 'France', 'Germany', 'Italy', 'Sweden', 'Hungary', 'China', 'Australia'] \n",
      "\n",
      "Top 10 in Winter:\n",
      " ['Norway', 'United States', 'Austria', 'Germany', 'Soviet Union', 'Canada', 'Finland', 'Sweden', 'Switzerland', 'Russia'] \n",
      "\n",
      "Top 10:\n",
      " ['United States', 'Soviet Union', 'Great Britain', 'Germany', 'France', 'Italy', 'Sweden', 'China', 'East Germany', 'Russia'] \n",
      "\n",
      "Common Countries :\n",
      " ['Soviet Union', 'United States', 'Sweden', 'Germany'] \n",
      "\n"
     ]
    }
   ],
   "source": [
    "#Function for top 10\n",
    "def top_ten(data, col):\n",
    "    \n",
    "    #Creating a new list\n",
    "    country_list=[]\n",
    "    \n",
    "    #Finding the top 10 values of 'col' column\n",
    "    country_list= list((data.nlargest(10,col)['Country_Name']))\n",
    "    \n",
    "    #Returning the top 10 list\n",
    "    return country_list\n",
    "\n",
    "\n",
    "\n",
    "#Calling the function for Top 10 in Summer\n",
    "top_10_summer=top_ten(top_countries,'Total_Summer')\n",
    "print(\"Top 10 in Summer:\\n\",top_10_summer, \"\\n\")\n",
    "\n",
    "#Calling the function for Top 10 in Winter\n",
    "top_10_winter=top_ten(top_countries,'Total_Winter')\n",
    "print(\"Top 10 in Winter:\\n\",top_10_winter, \"\\n\")\n",
    "\n",
    "#Calling the function for Top 10 in both the events\n",
    "top_10=top_ten(top_countries,'Total_Medals')\n",
    "print(\"Top 10:\\n\",top_10, \"\\n\")\n",
    "\n",
    "#Extracting common country names from all three lists\n",
    "common=list(set(top_10_summer) & set(top_10_winter) & set(top_10))\n",
    "\n",
    "print('Common Countries :\\n', common, \"\\n\")"
   ]
  },
  {
   "cell_type": "markdown",
   "metadata": {},
   "source": [
    "# Plotting Top 10"
   ]
  },
  {
   "cell_type": "markdown",
   "metadata": {},
   "source": [
    "From the lists that we have created from the previous task, let's plot the medal count of the top 10 countries for better visualisation"
   ]
  },
  {
   "cell_type": "code",
   "execution_count": 22,
   "metadata": {},
   "outputs": [
    {
     "data": {
      "text/plain": [
       "Text(0, 0.5, 'Total Medals')"
      ]
     },
     "execution_count": 22,
     "metadata": {},
     "output_type": "execute_result"
    },
    {
     "data": {
      "image/png": "[encoded data removed]",
      "text/plain": [
       "<Figure size 1440x432 with 1 Axes>"
      ]
     },
     "metadata": {
      "needs_background": "light"
     },
     "output_type": "display_data"
    }
   ],
   "source": [
    "#For Summer\n",
    "\n",
    "#Creating the dataframe for Summer event\n",
    "summer_df= data[data['Country_Name'].isin(top_10_summer)]\n",
    "\n",
    "#Plotting the bar graph\n",
    "plt.figure(figsize=(20, 6))\n",
    "plt.bar(summer_df['Country_Name'], summer_df['Total_Summer'])\n",
    "\n",
    "#Changing the graph title\n",
    "plt.title('Top 10 Summer')\n",
    "\n",
    "#Changing the x-axis label\n",
    "plt.xlabel('Country Name')\n",
    "\n",
    "#Changing the y-axis label\n",
    "plt.ylabel('Total Medals')"
   ]
  },
  {
   "cell_type": "code",
   "execution_count": 23,
   "metadata": {},
   "outputs": [
    {
     "data": {
      "text/plain": [
       "Text(0, 0.5, 'Total Medals')"
      ]
     },
     "execution_count": 23,
     "metadata": {},
     "output_type": "execute_result"
    },
    {
     "data": {
      "image/png": "[encoded data removed]",
      "text/plain": [
       "<Figure size 1440x432 with 1 Axes>"
      ]
     },
     "metadata": {
      "needs_background": "light"
     },
     "output_type": "display_data"
    }
   ],
   "source": [
    "#For Winter\n",
    "\n",
    "#Creating the dataframe for Winter event\n",
    "winter_df=data[data['Country_Name'].isin(top_10_winter)]\n",
    "\n",
    "#Plotting the bar graph\n",
    "plt.figure(figsize=(20, 6))\n",
    "plt.bar(winter_df['Country_Name'], winter_df['Total_Winter'])\n",
    "\n",
    "#Changing the graph title\n",
    "plt.title('Top 10 Winter')\n",
    "\n",
    "#Changing the x-axis label\n",
    "plt.xlabel('Country Name')\n",
    "\n",
    "#Changing the y-axis label\n",
    "plt.ylabel('Total Medals')"
   ]
  },
  {
   "cell_type": "code",
   "execution_count": 24,
   "metadata": {},
   "outputs": [
    {
     "data": {
      "text/plain": [
       "Text(0, 0.5, 'Total Medals')"
      ]
     },
     "execution_count": 24,
     "metadata": {},
     "output_type": "execute_result"
    },
    {
     "data": {
      "image/png": "[encoded data removed]",
      "text/plain": [
       "<Figure size 1440x432 with 1 Axes>"
      ]
     },
     "metadata": {
      "needs_background": "light"
     },
     "output_type": "display_data"
    }
   ],
   "source": [
    "#For both the events\n",
    "\n",
    "#Creating the dataframe for both the events\n",
    "top_df=data[data['Country_Name'].isin(top_10)]\n",
    "\n",
    "#Plotting the bar graph\n",
    "plt.figure(figsize=(20, 6))\n",
    "plt.bar(top_df['Country_Name'], top_df['Total_Medals'])\n",
    "\n",
    "#Changing the graph title\n",
    "plt.title('Top 10')\n",
    "\n",
    "#Changing the x-axis label\n",
    "plt.xlabel('Country Name')\n",
    "\n",
    "#Changing the y-axis label\n",
    "plt.ylabel('Total Medals')"
   ]
  },
  {
   "cell_type": "markdown",
   "metadata": {},
   "source": [
    "# Top performing country(Gold)"
   ]
  },
  {
   "cell_type": "markdown",
   "metadata": {},
   "source": [
    "Winning silver or bronze medals is a big achievement but winning gold is bigger.\n",
    "\n",
    "Using the above created dataframe subsets, in this task let's find out which country has had the best performance with respect to the ratio between gold medals won and total medals won."
   ]
  },
  {
   "cell_type": "code",
   "execution_count": 25,
   "metadata": {},
   "outputs": [
    {
     "name": "stdout",
     "output_type": "stream",
     "text": [
      "Top Summer Country: China  with a ratio of 0.42\n"
     ]
    },
    {
     "name": "stderr",
     "output_type": "stream",
     "text": [
      "C:\\Users\\sagar\\Anaconda3\\lib\\site-packages\\ipykernel_launcher.py:4: SettingWithCopyWarning: \n",
      "A value is trying to be set on a copy of a slice from a DataFrame.\n",
      "Try using .loc[row_indexer,col_indexer] = value instead\n",
      "\n",
      "See the caveats in the documentation: http://pandas.pydata.org/pandas-docs/stable/user_guide/indexing.html#returning-a-view-versus-a-copy\n",
      "  after removing the cwd from sys.path.\n"
     ]
    }
   ],
   "source": [
    "#For Summer List\n",
    "\n",
    "#Creating new column 'Golden_Ratio'\n",
    "summer_df['Golden_Ratio']=summer_df['Gold_Summer']/summer_df['Total_Summer']\n",
    "\n",
    "#Finding the max value of 'Golden_Ratio' column\n",
    "summer_max_ratio=max(summer_df['Golden_Ratio'])\n",
    "\n",
    "#Finding the country assosciated with the max value of 'Golden_Ratio' column\n",
    "summer_country_gold=summer_df.loc[summer_df['Golden_Ratio'].idxmax(),'Country_Name']\n",
    "\n",
    "print(\"Top Summer Country:\", summer_country_gold, \" with a ratio of %.2f\" %summer_max_ratio )"
   ]
  },
  {
   "cell_type": "code",
   "execution_count": 26,
   "metadata": {},
   "outputs": [
    {
     "name": "stdout",
     "output_type": "stream",
     "text": [
      "Top Winter Country: Soviet Union  with a ratio of 0.40\n"
     ]
    },
    {
     "name": "stderr",
     "output_type": "stream",
     "text": [
      "C:\\Users\\sagar\\Anaconda3\\lib\\site-packages\\ipykernel_launcher.py:4: SettingWithCopyWarning: \n",
      "A value is trying to be set on a copy of a slice from a DataFrame.\n",
      "Try using .loc[row_indexer,col_indexer] = value instead\n",
      "\n",
      "See the caveats in the documentation: http://pandas.pydata.org/pandas-docs/stable/user_guide/indexing.html#returning-a-view-versus-a-copy\n",
      "  after removing the cwd from sys.path.\n"
     ]
    }
   ],
   "source": [
    "#For Winter List\n",
    "\n",
    "#Creating new column 'Golden_Ratio'\n",
    "winter_df['Golden_Ratio']=winter_df['Gold_Winter']/winter_df['Total_Winter']\n",
    "\n",
    "#Finding the max value of 'Golden_Ratio' column\n",
    "winter_max_ratio=max(winter_df['Golden_Ratio'])\n",
    "\n",
    "#Finding the country assosciated with the max value of 'Golden_Ratio' column\n",
    "winter_country_gold=winter_df.loc[winter_df['Golden_Ratio'].idxmax(),'Country_Name']\n",
    "\n",
    "print(\"Top Winter Country:\", winter_country_gold, \" with a ratio of %.2f\" %winter_max_ratio )"
   ]
  },
  {
   "cell_type": "code",
   "execution_count": 27,
   "metadata": {},
   "outputs": [
    {
     "name": "stdout",
     "output_type": "stream",
     "text": [
      "Top Country: China  with a ratio of 0.40\n"
     ]
    },
    {
     "name": "stderr",
     "output_type": "stream",
     "text": [
      "C:\\Users\\sagar\\Anaconda3\\lib\\site-packages\\ipykernel_launcher.py:4: SettingWithCopyWarning: \n",
      "A value is trying to be set on a copy of a slice from a DataFrame.\n",
      "Try using .loc[row_indexer,col_indexer] = value instead\n",
      "\n",
      "See the caveats in the documentation: http://pandas.pydata.org/pandas-docs/stable/user_guide/indexing.html#returning-a-view-versus-a-copy\n",
      "  after removing the cwd from sys.path.\n"
     ]
    }
   ],
   "source": [
    "#For Overall List\n",
    "\n",
    "#Creating new column 'Golden_Ratio'\n",
    "top_df['Golden_Ratio']=top_df['Gold_Total']/top_df['Total_Medals']\n",
    "\n",
    "#Finding the max value of 'Golden_Ratio' column\n",
    "top_max_ratio=max(top_df['Golden_Ratio'])\n",
    "\n",
    "#Finding the country assosciated with the max value of 'Golden_Ratio' column\n",
    "top_country_gold=top_df.loc[top_df['Golden_Ratio'].idxmax(),'Country_Name']\n",
    "\n",
    "print(\"Top Country:\", top_country_gold, \" with a ratio of %.2f\" %top_max_ratio )"
   ]
  },
  {
   "cell_type": "markdown",
   "metadata": {},
   "source": [
    "# Best in the world"
   ]
  },
  {
   "cell_type": "markdown",
   "metadata": {},
   "source": [
    "Winning Gold is great but is winning most gold equivalent to being the best overall perfomer? Let's find out."
   ]
  },
  {
   "cell_type": "code",
   "execution_count": 28,
   "metadata": {},
   "outputs": [
    {
     "name": "stderr",
     "output_type": "stream",
     "text": [
      "C:\\Users\\sagar\\Anaconda3\\lib\\site-packages\\ipykernel_launcher.py:5: SettingWithCopyWarning: \n",
      "A value is trying to be set on a copy of a slice from a DataFrame.\n",
      "Try using .loc[row_indexer,col_indexer] = value instead\n",
      "\n",
      "See the caveats in the documentation: http://pandas.pydata.org/pandas-docs/stable/user_guide/indexing.html#returning-a-view-versus-a-copy\n",
      "  \"\"\"\n"
     ]
    }
   ],
   "source": [
    "#Removing the last column of the dataframe (The last row contains the total of all the values calculated vertically)\n",
    "data_1=data[:-1]\n",
    "\n",
    "#Creating a new column 'Total_Points'\n",
    "data_1['Total_Points']= data_1['Gold_Total']*3 + data_1['Silver_Total']*2 + data_1['Bronze_Total']*1  # Use of position index to handle the ambiguity of having same name columns"
   ]
  },
  {
   "cell_type": "code",
   "execution_count": 29,
   "metadata": {},
   "outputs": [
    {
     "name": "stdout",
     "output_type": "stream",
     "text": [
      "                         Country_Name  # Summer  Gold_Summer  Silver_Summer  \\\n",
      "0                         Afghanistan        13            0              0   \n",
      "1                             Algeria        12            5              2   \n",
      "2                           Argentina        23           18             24   \n",
      "3                             Armenia         5            1              2   \n",
      "4                         Australasia         2            3              4   \n",
      "..                                ...       ...          ...            ...   \n",
      "141                        Yugoslavia        16           26             29   \n",
      "142  Independent Olympic Participants         1            0              1   \n",
      "143                            Zambia        12            0              1   \n",
      "144                          Zimbabwe        12            3              4   \n",
      "145                        Mixed team         3            8              5   \n",
      "\n",
      "     Bronze_Summer  Total_Summer  # Winter  Gold_Winter  Silver_Winter  \\\n",
      "0                2             2         0            0              0   \n",
      "1                8            15         3            0              0   \n",
      "2               28            70        18            0              0   \n",
      "3                9            12         6            0              0   \n",
      "4                5            12         0            0              0   \n",
      "..             ...           ...       ...          ...            ...   \n",
      "141             28            83        14            0              3   \n",
      "142              2             3         0            0              0   \n",
      "143              1             2         0            0              0   \n",
      "144              1             8         1            0              0   \n",
      "145              4            17         0            0              0   \n",
      "\n",
      "     Bronze_Winter  Total_Winter  # Games  Gold_Total  Silver_Total  \\\n",
      "0                0             0       13           0             0   \n",
      "1                0             0       15           5             2   \n",
      "2                0             0       41          18            24   \n",
      "3                0             0       11           1             2   \n",
      "4                0             0        2           3             4   \n",
      "..             ...           ...      ...         ...           ...   \n",
      "141              1             4       30          26            32   \n",
      "142              0             0        1           0             1   \n",
      "143              0             0       12           0             1   \n",
      "144              0             0       13           3             4   \n",
      "145              0             0        3           8             5   \n",
      "\n",
      "     Bronze_Total  Total_Medals Better_Event  Total_Points  \n",
      "0               2             2       Summer             2  \n",
      "1               8            15       Summer            27  \n",
      "2              28            70       Summer           130  \n",
      "3               9            12       Summer            16  \n",
      "4               5            12       Summer            22  \n",
      "..            ...           ...          ...           ...  \n",
      "141            29            87       Summer           171  \n",
      "142             2             3       Summer             4  \n",
      "143             1             2       Summer             3  \n",
      "144             1             8       Summer            18  \n",
      "145             4            17       Summer            38  \n",
      "\n",
      "[146 rows x 18 columns]\n"
     ]
    }
   ],
   "source": [
    "print(data_1)"
   ]
  },
  {
   "cell_type": "code",
   "execution_count": 34,
   "metadata": {},
   "outputs": [
    {
     "name": "stdout",
     "output_type": "stream",
     "text": [
      "The maximum points achieved is 5684 by United States\n"
     ]
    }
   ],
   "source": [
    "#Finding the maximum value of 'Total_Points' column\n",
    "most_points=max(data_1['Total_Points'])\n",
    "\n",
    "#Finding the country assosciated with the max value of 'Total_Column' column\n",
    "best_country=data_1.loc[data_1['Total_Points'].idxmax(),'Country_Name']\n",
    "\n",
    "print('The maximum points achieved is', most_points, 'by', best_country )"
   ]
  },
  {
   "cell_type": "markdown",
   "metadata": {},
   "source": [
    "# Plot for the best"
   ]
  },
  {
   "cell_type": "markdown",
   "metadata": {},
   "source": [
    "We know which country is best when it comes to winning the most points in Olympic Games. \n",
    "\n",
    "Let's plot the medal count to visualise their success better."
   ]
  },
  {
   "cell_type": "code",
   "execution_count": 45,
   "metadata": {},
   "outputs": [
    {
     "data": {
      "image/png": "[encoded data removed]",
      "text/plain": [
       "<Figure size 432x288 with 1 Axes>"
      ]
     },
     "metadata": {
      "needs_background": "light"
     },
     "output_type": "display_data"
    }
   ],
   "source": [
    "#Subsetting the dataframe\n",
    "best=data[data['Country_Name']==best_country]\n",
    "best.reset_index(drop = True, inplace = True)\n",
    "best=best[['Gold_Total','Silver_Total','Bronze_Total']]\n",
    "\n",
    "\n",
    "#Plotting bar plot\n",
    "best.plot.bar(stacked=True)\n",
    "\n",
    "#Changing the x-axis label\n",
    "plt.xlabel('United States')\n",
    "\n",
    "#Changing the y-axis label\n",
    "plt.ylabel('Medals Tally')\n",
    "\n",
    "#Rotating the ticks of X-axis\n",
    "plt.xticks(rotation=45)\n",
    "\n",
    "#Updating the graph legend\n",
    "l=plt.legend()\n",
    "l.get_texts()[0].set_text('Gold_Total :' + str(best['Gold_Total'].values))\n",
    "l.get_texts()[1].set_text('Silver_Total :' + str(best['Silver_Total'].values))\n",
    "l.get_texts()[2].set_text('Bronze_Total :' + str(best['Bronze_Total'].values))"
   ]
  }
 ],
 "metadata": {
  "kernelspec": {
   "display_name": "Python 3",
   "language": "python",
   "name": "python3"
  },
  "language_info": {
   "codemirror_mode": {
    "name": "ipython",
    "version": 3
   },
   "file_extension": ".py",
   "mimetype": "text/x-python",
   "name": "python",
   "nbconvert_exporter": "python",
   "pygments_lexer": "ipython3",
   "version": "3.7.4"
  }
 },
 "nbformat": 4,
 "nbformat_minor": 2
}
